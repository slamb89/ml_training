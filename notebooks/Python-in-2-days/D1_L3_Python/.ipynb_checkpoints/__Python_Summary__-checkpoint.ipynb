{
 "cells": [
  {
   "cell_type": "markdown",
   "metadata": {
    "colab_type": "text",
    "id": "bOChJSNXtC9g"
   },
   "source": [
    "# Introduction to Python"
   ]
  },
  {
   "cell_type": "markdown",
   "metadata": {
    "colab_type": "text",
    "id": "OLIxEDq6VhvZ"
   },
   "source": [
    "In this lesson we will learn the basics of the Python programming language (version 3). We won't learn everything about Python but enough to do some basic machine learning.\n",
    "\n",
    "<img src=\"figures/python.png\" width=350>\n",
    "\n",
    "\n"
   ]
  },
  {
   "cell_type": "markdown",
   "metadata": {
    "colab_type": "text",
    "id": "VoMq0eFRvugb"
   },
   "source": [
    "#  Variables"
   ]
  },
  {
   "cell_type": "markdown",
   "metadata": {
    "colab_type": "text",
    "id": "qWro5T5qTJJL"
   },
   "source": [
    "Variables are objects in Python that can hold anything with numbers or text. Let's look at how to create some variables."
   ]
  },
  {
   "cell_type": "code",
   "execution_count": 28,
   "metadata": {
    "colab": {
     "base_uri": "https://localhost:8080/",
     "height": 34
    },
    "colab_type": "code",
    "id": "0-dXQiLlTIgz",
    "outputId": "38d1f8a5-b067-416b-b042-38a373624a8b"
   },
   "outputs": [
    {
     "name": "stdout",
     "output_type": "stream",
     "text": [
      "99\n",
      "27\n",
      "55\n"
     ]
    },
    {
     "data": {
      "text/plain": [
       "'changed numerical values of x'"
      ]
     },
     "execution_count": 28,
     "metadata": {},
     "output_type": "execute_result"
    }
   ],
   "source": [
    "# Numerical example\n",
    "x = 99\n",
    "print (x)\n",
    "\n",
    "x = 27 # Added numerical value of 27\n",
    "print (x)\n",
    "\n",
    "x=55 # Added numerical value of 55\n",
    "print (x)\n",
    "\n",
    "\"\"\"changed numerical values of x\"\"\""
   ]
  },
  {
   "cell_type": "code",
   "execution_count": 29,
   "metadata": {
    "colab": {
     "base_uri": "https://localhost:8080/",
     "height": 34
    },
    "colab_type": "code",
    "id": "5Ym0owFxTkjo",
    "outputId": "72c2781a-4435-4c21-b15a-4c070d47bd86"
   },
   "outputs": [
    {
     "name": "stdout",
     "output_type": "stream",
     "text": [
      "learning to code is fun\n",
      "tomorrow\n"
     ]
    },
    {
     "data": {
      "text/plain": [
       "'changed sentences and value of x. Modified spacing to see if it altered the output'"
      ]
     },
     "execution_count": 29,
     "metadata": {},
     "output_type": "execute_result"
    }
   ],
   "source": [
    "# Text example\n",
    "x = \"learning to code is fun\" # Changed text to \"learning to code is fun\" and \"tomorrow\"\n",
    "print (x)\n",
    "\n",
    "x=\"tomorrow\"\n",
    "print(x)\n",
    "\n",
    "\"\"\"changed sentences and value of x. Modified spacing to see if it altered the output\"\"\""
   ]
  },
  {
   "cell_type": "code",
   "execution_count": 30,
   "metadata": {
    "colab": {
     "base_uri": "https://localhost:8080/",
     "height": 34
    },
    "colab_type": "code",
    "id": "1a4ZhMV1T1-0",
    "outputId": "0817e041-5f79-46d8-84cc-ee4aaea0eba2"
   },
   "outputs": [
    {
     "name": "stdout",
     "output_type": "stream",
     "text": [
      "300\n",
      "56\n"
     ]
    },
    {
     "data": {
      "text/plain": [
       "'Changed values of a, b, and c. Created additional values for new variables.'"
      ]
     },
     "execution_count": 30,
     "metadata": {},
     "output_type": "execute_result"
    }
   ],
   "source": [
    "# Variables can be used with each other\n",
    "a = 2 # Changed values of a, b, and c\n",
    "b = 298\n",
    "c = a + b\n",
    "print (c)\n",
    "\n",
    "a = 3\n",
    "b = 4\n",
    "c = 27\n",
    "d = 22\n",
    "e = a + b + c + d\n",
    "print (e)\n",
    "\n",
    "\"\"\"Changed values of a, b, and c. Created additional values for new variables.\"\"\""
   ]
  },
  {
   "cell_type": "markdown",
   "metadata": {
    "colab_type": "text",
    "id": "nbKV4aTdUC1_"
   },
   "source": [
    "Variables can come in lots of different types. Even within numerical variables, you can have integers (int), floats (float), etc. All text based variables are of type string (str). We can see what type a variable is by printing its type."
   ]
  },
  {
   "cell_type": "code",
   "execution_count": 31,
   "metadata": {
    "colab": {
     "base_uri": "https://localhost:8080/",
     "height": 153
    },
    "colab_type": "code",
    "id": "c3NJmfO4Uc6V",
    "outputId": "04b91fa4-51af-48f4-e9ac-591b5bf3e714",
    "scrolled": true
   },
   "outputs": [
    {
     "name": "stdout",
     "output_type": "stream",
     "text": [
      "2\n",
      "<class 'int'>\n",
      "1\n",
      "<class 'int'>\n",
      "7.7\n",
      "<class 'float'>\n",
      "2.25\n",
      "<class 'float'>\n",
      "hello Sheri\n",
      "<class 'str'>\n",
      "Thunderstorms\n",
      "<class 'str'>\n",
      "False\n",
      "<class 'bool'>\n",
      "True\n",
      "<class 'bool'>\n"
     ]
    },
    {
     "data": {
      "text/plain": [
       "'Created new values for the variable x'"
      ]
     },
     "execution_count": 31,
     "metadata": {},
     "output_type": "execute_result"
    }
   ],
   "source": [
    "# int variable\n",
    "x = 2\n",
    "print (x)\n",
    "print (type(x))\n",
    "\n",
    "x = 1\n",
    "print (x)\n",
    "print (type(x))\n",
    "\n",
    "# float variable\n",
    "x = 7.7\n",
    "print (x)\n",
    "print (type(x))\n",
    "\n",
    "x = 2.25\n",
    "print (x)\n",
    "print (type(x))\n",
    "\n",
    "# text variable\n",
    "x = \"hello Sheri\" \n",
    "print (x)\n",
    "print (type(x))\n",
    "\n",
    "x = \"Thunderstorms\"\n",
    "print (x)\n",
    "print (type(x))\n",
    "\n",
    "# boolean variable\n",
    "x = False\n",
    "print (x)\n",
    "print (type(x))\n",
    "\n",
    "x = True\n",
    "print (x)\n",
    "print (type(x))\n",
    "\n",
    "\"\"\"Created new values for the variable x\"\"\""
   ]
  },
  {
   "cell_type": "markdown",
   "metadata": {
    "colab_type": "text",
    "id": "6HPtavfdU8Ut"
   },
   "source": [
    "It's good practice to know what types your variables are. When you want to use numerical operations on them, they need to be compatible. "
   ]
  },
  {
   "cell_type": "code",
   "execution_count": 32,
   "metadata": {
    "colab": {
     "base_uri": "https://localhost:8080/",
     "height": 51
    },
    "colab_type": "code",
    "id": "8pr1-i7IVD-h",
    "outputId": "c2bce48d-b69f-4aab-95c1-9e588f67a6c3"
   },
   "outputs": [
    {
     "name": "stdout",
     "output_type": "stream",
     "text": [
      "8\n",
      "62\n",
      "435\n",
      "12\n"
     ]
    },
    {
     "data": {
      "text/plain": [
       "'Changed existing value of int and string variables. Created new variables'"
      ]
     },
     "execution_count": 32,
     "metadata": {},
     "output_type": "execute_result"
    }
   ],
   "source": [
    "# int variables\n",
    "a = 6\n",
    "b = 2\n",
    "print (a + b)\n",
    "\n",
    "# string variables\n",
    "a = \"6\"\n",
    "b = \"2\"\n",
    "print (a + b)\n",
    "\n",
    "a = \"4\"\n",
    "b = \"3\"\n",
    "c = \"5\"\n",
    "print (a + b + c)\n",
    "\n",
    "a = 4\n",
    "b = 3\n",
    "c = 5\n",
    "print (a + b + c)\n",
    "\n",
    "\"\"\"Changed existing value of int and string variables. Created new variables\"\"\""
   ]
  },
  {
   "cell_type": "markdown",
   "metadata": {
    "colab_type": "text",
    "id": "q4R_UF6PVw4V"
   },
   "source": [
    "#  Lists"
   ]
  },
  {
   "cell_type": "markdown",
   "metadata": {
    "colab_type": "text",
    "id": "LvGsQBj4VjMl"
   },
   "source": [
    "Lists are objects in Python that can hold a ordered sequence of numbers **and** text."
   ]
  },
  {
   "cell_type": "code",
   "execution_count": 46,
   "metadata": {
    "colab": {
     "base_uri": "https://localhost:8080/",
     "height": 34
    },
    "colab_type": "code",
    "id": "9iPESkq9VvlX",
    "outputId": "67dfbe9f-d4cb-4a62-a812-7c5c8a01c2fa"
   },
   "outputs": [
    {
     "name": "stdout",
     "output_type": "stream",
     "text": [
      "[2, 'hello', 1]\n",
      "[1, 'sheri lamb', 4]\n"
     ]
    },
    {
     "data": {
      "text/plain": [
       "'Created a new list a'"
      ]
     },
     "execution_count": 46,
     "metadata": {},
     "output_type": "execute_result"
    }
   ],
   "source": [
    "# Creating a list\n",
    "list_x = [2, \"hello\", 1]\n",
    "print (list_x)\n",
    "\n",
    "list_a = [1, \"sheri lamb\", 4]\n",
    "print (list_a)\n",
    "\n",
    "\"\"\"Created a new list a\"\"\""
   ]
  },
  {
   "cell_type": "markdown",
   "metadata": {
    "colab_type": "text",
    "id": "0xC6WvuwbGDg"
   },
   "source": []
  },
  {
   "cell_type": "code",
   "execution_count": 49,
   "metadata": {
    "colab": {
     "base_uri": "https://localhost:8080/",
     "height": 34
    },
    "colab_type": "code",
    "id": "7lbajc-zV515",
    "outputId": "4345bbe0-0f0c-4f84-bcf2-a76130899f34"
   },
   "outputs": [
    {
     "name": "stdout",
     "output_type": "stream",
     "text": [
      "[2, 'hello', 1, 7, 7, 7]\n",
      "[1, 'sheri lamb', 4, 'tomorrow', 'tomorrow', 'tomorrow']\n"
     ]
    },
    {
     "data": {
      "text/plain": [
       "\"Added 'tomorrow' to my list\""
      ]
     },
     "execution_count": 49,
     "metadata": {},
     "output_type": "execute_result"
    }
   ],
   "source": [
    "# Adding to a list\n",
    "list_x.append(7)\n",
    "print (list_x)\n",
    "\n",
    "list_a.append(\"tomorrow\")\n",
    "print (list_a)\n",
    "\n",
    "\"\"\"Added 'tomorrow' to my list\"\"\""
   ]
  },
  {
   "cell_type": "code",
   "execution_count": 38,
   "metadata": {
    "colab": {
     "base_uri": "https://localhost:8080/",
     "height": 102
    },
    "colab_type": "code",
    "id": "W0xpIryJWCN9",
    "outputId": "a7676615-aff1-402f-d41f-81d004728f94"
   },
   "outputs": [
    {
     "name": "stdout",
     "output_type": "stream",
     "text": [
      "list_x[0]:  1\n",
      "list_x[1]:  sheri lamb\n",
      "list_x[2]:  4\n",
      "list_x[-1]:  tomorrow\n",
      "list_x[-2]:  7\n",
      "list_x[5]: 7\n"
     ]
    },
    {
     "data": {
      "text/plain": [
       "'accessed item #5'"
      ]
     },
     "execution_count": 38,
     "metadata": {},
     "output_type": "execute_result"
    }
   ],
   "source": [
    "# Accessing items at specific location in a list\n",
    "print (\"list_x[0]: \", list_x[0])\n",
    "print (\"list_x[1]: \", list_x[1])\n",
    "print (\"list_x[2]: \", list_x[2])\n",
    "print (\"list_x[-1]: \", list_x[-1]) # the last item\n",
    "print (\"list_x[-2]: \", list_x[-2]) # the second to last item\n",
    "\n",
    "print (\"list_x[5]:\", list_x[5]) \n",
    "\n",
    "\"\"\"accessed item #5\"\"\""
   ]
  },
  {
   "cell_type": "code",
   "execution_count": 40,
   "metadata": {
    "colab": {
     "base_uri": "https://localhost:8080/",
     "height": 85
    },
    "colab_type": "code",
    "id": "VSu_HNrnc1WK",
    "outputId": "3c40cce2-9599-41aa-b01c-7c6f39329212"
   },
   "outputs": [
    {
     "name": "stdout",
     "output_type": "stream",
     "text": [
      "list_x[:]:  [1, 'sheri lamb', 4, 7, 'tomorrow', 7, 'tomorrow', 7, 'tomorrow']\n",
      "list_x[2:]:  [4, 7, 'tomorrow', 7, 'tomorrow', 7, 'tomorrow']\n",
      "list_x[1:3]:  ['sheri lamb', 4]\n",
      "list_x[:-1]:  [1, 'sheri lamb', 4, 7, 'tomorrow', 7, 'tomorrow', 7]\n",
      "list_x[5:]:  [7, 'tomorrow', 7, 'tomorrow']\n"
     ]
    },
    {
     "data": {
      "text/plain": [
       "'added #5 to # slicing'"
      ]
     },
     "execution_count": 40,
     "metadata": {},
     "output_type": "execute_result"
    }
   ],
   "source": [
    "# Slicing\n",
    "print (\"list_x[:]: \", list_x[:])\n",
    "print (\"list_x[2:]: \", list_x[2:])\n",
    "print (\"list_x[1:3]: \", list_x[1:3])\n",
    "print (\"list_x[:-1]: \", list_x[:-1])\n",
    "\n",
    "print (\"list_x[5:]: \", list_x[5:])\n",
    "\n",
    "\"\"\"added #5 to # slicing\"\"\""
   ]
  },
  {
   "cell_type": "code",
   "execution_count": 54,
   "metadata": {
    "colab": {
     "base_uri": "https://localhost:8080/",
     "height": 34
    },
    "colab_type": "code",
    "id": "dImY-hVzWxB4",
    "outputId": "8394f232-aa11-4dbd-8580-70adb5adc807"
   },
   "outputs": [
    {
     "data": {
      "text/plain": [
       "'calculated the length of list_a'"
      ]
     },
     "execution_count": 54,
     "metadata": {},
     "output_type": "execute_result"
    }
   ],
   "source": [
    "# Length of a list\n",
    "len(list_x)\n",
    "len(list_x)\n",
    "\n",
    "len(list_a)\n",
    "\"\"\"calculated the length of list_a\"\"\""
   ]
  },
  {
   "cell_type": "code",
   "execution_count": 52,
   "metadata": {
    "colab": {
     "base_uri": "https://localhost:8080/",
     "height": 34
    },
    "colab_type": "code",
    "id": "3-reXDniW_sm",
    "outputId": "382d1a40-ad1a-49f7-f70f-2c2a02ffd88d"
   },
   "outputs": [
    {
     "name": "stdout",
     "output_type": "stream",
     "text": [
      "[2, 'hi', 1, 7, 7, 7]\n",
      "[1, 'yes', 4, 'tomorrow', 'tomorrow', 'tomorrow']\n"
     ]
    },
    {
     "data": {
      "text/plain": [
       "'replaced item 1 with yes'"
      ]
     },
     "execution_count": 52,
     "metadata": {},
     "output_type": "execute_result"
    }
   ],
   "source": [
    "# Replacing items in a list\n",
    "list_x[1] = \"hi\"\n",
    "print (list_x)\n",
    "\n",
    "list_a[1] = \"yes\"\n",
    "print (list_a)\n",
    "\n",
    "\"\"\"replaced item 1 with yes\"\"\""
   ]
  },
  {
   "cell_type": "code",
   "execution_count": 57,
   "metadata": {
    "colab": {
     "base_uri": "https://localhost:8080/",
     "height": 34
    },
    "colab_type": "code",
    "id": "X8T5I3bjXJ0S",
    "outputId": "1ede1c5c-c6ea-452f-b13d-ff9efd3d53b0"
   },
   "outputs": [
    {
     "name": "stdout",
     "output_type": "stream",
     "text": [
      "[2, 'hi', 1, 7, 7, 7, 2.4, 'world']\n",
      "[1, 2, 'fire', 4, 7, 'Stella']\n"
     ]
    },
    {
     "data": {
      "text/plain": [
       "'Created 2 new lists and combined them to create a third (list_4)'"
      ]
     },
     "execution_count": 57,
     "metadata": {},
     "output_type": "execute_result"
    }
   ],
   "source": [
    "# Combining lists\n",
    "list_y = [2.4, \"world\"]\n",
    "list_z = list_x + list_y\n",
    "print (list_z)\n",
    "\n",
    "list_h = [1, 2,\"fire\"]\n",
    "list_i = [4, 7, \"Stella\"]\n",
    "list_4 = list_h + list_i\n",
    "print (list_4)\n",
    "\n",
    "\"\"\"Created 2 new lists and combined them to create a third (list_4)\"\"\""
   ]
  },
  {
   "cell_type": "markdown",
   "metadata": {
    "colab_type": "text",
    "id": "ddpIO6LLVzh0"
   },
   "source": [
    "# Tuples"
   ]
  },
  {
   "cell_type": "markdown",
   "metadata": {
    "colab_type": "text",
    "id": "CAZblq7oXY3s"
   },
   "source": [
    "Tuples are also objects in Python that can hold data but you cannot replace their values (for this reason, tuples are called immutable, whereas lists are known as mutable)."
   ]
  },
  {
   "cell_type": "code",
   "execution_count": 59,
   "metadata": {
    "colab": {
     "base_uri": "https://localhost:8080/",
     "height": 34
    },
    "colab_type": "code",
    "id": "G95lu8xWXY90",
    "outputId": "c23250e5-534a-48e6-ed52-f034859f73c2"
   },
   "outputs": [
    {
     "name": "stdout",
     "output_type": "stream",
     "text": [
      "(3.0, 'hello')\n",
      "(5.0, 'Star')\n"
     ]
    },
    {
     "data": {
      "text/plain": [
       "'Created tuple y'"
      ]
     },
     "execution_count": 59,
     "metadata": {},
     "output_type": "execute_result"
    }
   ],
   "source": [
    "# Creating a tuple\n",
    "tuple_x = (3.0, \"hello\")\n",
    "print (tuple_x)\n",
    "\n",
    "tuple_y = (5.0, \"Star\")\n",
    "print (tuple_y)\n",
    "\n",
    "\"\"\"Created tuple y\"\"\""
   ]
  },
  {
   "cell_type": "code",
   "execution_count": 67,
   "metadata": {
    "colab": {
     "base_uri": "https://localhost:8080/",
     "height": 34
    },
    "colab_type": "code",
    "id": "kq23Bej1acAP",
    "outputId": "34edfbff-dbc0-4385-a118-7f1bcc49e84f"
   },
   "outputs": [
    {
     "name": "stdout",
     "output_type": "stream",
     "text": [
      "(3.0, 'hello', 5.6, 5.6, 5.6, 5.6)\n",
      "(5.0, 'Star', 2.4)\n"
     ]
    },
    {
     "data": {
      "text/plain": [
       "'added 2.4 to tuple_z'"
      ]
     },
     "execution_count": 67,
     "metadata": {},
     "output_type": "execute_result"
    }
   ],
   "source": [
    "# Adding values to a tuple\n",
    "tuple_x = tuple_x + (5.6,)\n",
    "print (tuple_x)\n",
    "\n",
    "tuple_z = tuple_y + (2.4,)\n",
    "print (tuple_z)\n",
    "\n",
    "\"\"\"added 2.4 to tuple_z\"\"\""
   ]
  },
  {
   "cell_type": "code",
   "execution_count": 64,
   "metadata": {
    "colab": {
     "base_uri": "https://localhost:8080/",
     "height": 164
    },
    "colab_type": "code",
    "id": "vyTmOc6BXkge",
    "outputId": "dadeac9a-4bb4-43a3-ff40-e8ca6a05ba2c"
   },
   "outputs": [
    {
     "ename": "TypeError",
     "evalue": "'tuple' object does not support item assignment",
     "output_type": "error",
     "traceback": [
      "\u001b[0;31m---------------------------------------------------------------------------\u001b[0m",
      "\u001b[0;31mTypeError\u001b[0m                                 Traceback (most recent call last)",
      "\u001b[0;32m<ipython-input-64-9964bf827b95>\u001b[0m in \u001b[0;36m<module>\u001b[0;34m\u001b[0m\n\u001b[1;32m      1\u001b[0m \u001b[0;31m# Trying to change a tuples value (you can't, this should produce an error.)\u001b[0m\u001b[0;34m\u001b[0m\u001b[0;34m\u001b[0m\u001b[0;34m\u001b[0m\u001b[0m\n\u001b[0;32m----> 2\u001b[0;31m \u001b[0mtuple_x\u001b[0m\u001b[0;34m[\u001b[0m\u001b[0;36m1\u001b[0m\u001b[0;34m]\u001b[0m \u001b[0;34m=\u001b[0m \u001b[0;34m\"world\"\u001b[0m\u001b[0;34m\u001b[0m\u001b[0;34m\u001b[0m\u001b[0m\n\u001b[0m\u001b[1;32m      3\u001b[0m \u001b[0;34m\u001b[0m\u001b[0m\n\u001b[1;32m      4\u001b[0m \u001b[0mtuple_z\u001b[0m\u001b[0;34m[\u001b[0m\u001b[0;36m1\u001b[0m\u001b[0;34m]\u001b[0m \u001b[0;34m=\u001b[0m \u001b[0;34m\"sunrise\"\u001b[0m\u001b[0;34m\u001b[0m\u001b[0;34m\u001b[0m\u001b[0m\n\u001b[1;32m      5\u001b[0m \u001b[0;34m\u001b[0m\u001b[0m\n",
      "\u001b[0;31mTypeError\u001b[0m: 'tuple' object does not support item assignment"
     ]
    }
   ],
   "source": [
    "# Trying to change a tuples value (you can't, this should produce an error.)\n",
    "tuple_x[1] = \"world\"\n",
    "\n",
    "tuple_z[1] = \"sunrise\"\n",
    "\n",
    "\"\"\"attempted to change the value of tuple_z\"\"\""
   ]
  },
  {
   "cell_type": "markdown",
   "metadata": {
    "colab_type": "text",
    "id": "UdlJHkwZV3Mz"
   },
   "source": [
    "# Dictionaries"
   ]
  },
  {
   "cell_type": "markdown",
   "metadata": {
    "colab_type": "text",
    "id": "azp3AoxYXS26"
   },
   "source": [
    "Dictionaries are Python objects that hold key-value pairs. In the example dictionary below, the keys are the \"name\" and \"eye_color\" variables. They each have a value associated with them. A dictionary cannot have two of the same keys. "
   ]
  },
  {
   "cell_type": "code",
   "execution_count": 72,
   "metadata": {
    "colab": {
     "base_uri": "https://localhost:8080/",
     "height": 68
    },
    "colab_type": "code",
    "id": "pXhNLbzpXXSk",
    "outputId": "e4bb80e5-4e7b-4cbb-daa6-77490ab25145"
   },
   "outputs": [
    {
     "name": "stdout",
     "output_type": "stream",
     "text": [
      "{'name': 'dog', 'eye_color': 'brown'}\n",
      "dog\n",
      "brown\n",
      "{'brand': 'MAC', 'color': 'red'}\n",
      "MAC\n",
      "red\n"
     ]
    },
    {
     "data": {
      "text/plain": [
       "'Created a dictionary for MAC lipstick'"
      ]
     },
     "execution_count": 72,
     "metadata": {},
     "output_type": "execute_result"
    }
   ],
   "source": [
    "# Creating a dictionary\n",
    "dog = {\"name\": \"dog\",\n",
    "        \"eye_color\": \"brown\"}\n",
    "print (dog)\n",
    "print (dog[\"name\"])\n",
    "print (dog[\"eye_color\"])\n",
    "\n",
    "MAC = {\"brand\": \"MAC\", \"color\": \"red\"}\n",
    "print (MAC)\n",
    "print (MAC[\"brand\"])\n",
    "print (MAC[\"color\"])\n",
    "\n",
    "\"\"\"Created a dictionary for MAC lipstick\"\"\"\n"
   ]
  },
  {
   "cell_type": "code",
   "execution_count": 74,
   "metadata": {
    "colab": {
     "base_uri": "https://localhost:8080/",
     "height": 34
    },
    "colab_type": "code",
    "id": "1HXtX8vQYjXa",
    "outputId": "ad8d1a0f-d134-4c87-99c1-0f77140f2de0"
   },
   "outputs": [
    {
     "name": "stdout",
     "output_type": "stream",
     "text": [
      "{'name': 'dog', 'eye_color': 'green'}\n",
      "{'brand': 'MAC', 'color': 'pink'}\n"
     ]
    },
    {
     "data": {
      "text/plain": [
       "'Changed the lipstick color from red to pink'"
      ]
     },
     "execution_count": 74,
     "metadata": {},
     "output_type": "execute_result"
    }
   ],
   "source": [
    "# Changing the value for a key\n",
    "dog[\"eye_color\"] = \"green\"\n",
    "print (dog)\n",
    "\n",
    "MAC[\"color\"] = \"pink\"\n",
    "print (MAC)\n",
    "\n",
    "\"\"\"Changed the lipstick color from red to pink\"\"\""
   ]
  },
  {
   "cell_type": "code",
   "execution_count": 75,
   "metadata": {
    "colab": {
     "base_uri": "https://localhost:8080/",
     "height": 34
    },
    "colab_type": "code",
    "id": "qn33iB0MY5dT",
    "outputId": "bd89033e-e307-4739-8c1d-f957c32385b5"
   },
   "outputs": [
    {
     "name": "stdout",
     "output_type": "stream",
     "text": [
      "{'name': 'dog', 'eye_color': 'green', 'age': 5}\n",
      "{'brand': 'MAC', 'color': 'pink', 'age': 1}\n"
     ]
    }
   ],
   "source": [
    "# Adding new key-value pairs\n",
    "dog[\"age\"] = 5\n",
    "print (dog)\n",
    "\n",
    "MAC[\"age\"] = 1\n",
    "print (MAC)\n",
    "\n",
    "\"\"\"Added an aditional value (age)\"\"\""
   ]
  },
  {
   "cell_type": "code",
   "execution_count": 77,
   "metadata": {
    "colab": {
     "base_uri": "https://localhost:8080/",
     "height": 34
    },
    "colab_type": "code",
    "id": "g9EYmzMKa9YV",
    "outputId": "4b9218b9-2f4d-4287-932a-caba430713aa"
   },
   "outputs": [
    {
     "name": "stdout",
     "output_type": "stream",
     "text": [
      "3\n",
      "3\n"
     ]
    },
    {
     "data": {
      "text/plain": [
       "'Calculated length of MAC dictionary'"
      ]
     },
     "execution_count": 77,
     "metadata": {},
     "output_type": "execute_result"
    }
   ],
   "source": [
    "# Length of a dictionary\n",
    "print (len(dog))\n",
    "\n",
    "print (len(MAC))\n",
    "\n",
    "\"\"\"Calculated length of MAC dictionary\"\"\""
   ]
  },
  {
   "cell_type": "markdown",
   "metadata": {
    "colab_type": "text",
    "id": "B-DInx_Xo2vJ"
   },
   "source": [
    "# If statements"
   ]
  },
  {
   "cell_type": "markdown",
   "metadata": {
    "colab_type": "text",
    "id": "ZG_ICGRGo4tY"
   },
   "source": [
    "You can use `if` statements to conditionally do something."
   ]
  },
  {
   "cell_type": "code",
   "execution_count": 81,
   "metadata": {
    "colab": {
     "base_uri": "https://localhost:8080/",
     "height": 34
    },
    "colab_type": "code",
    "id": "uob9lQuKo4Pg",
    "outputId": "21d40476-ea6a-4149-f744-0119d0894d77"
   },
   "outputs": [
    {
     "name": "stdout",
     "output_type": "stream",
     "text": [
      "medium\n",
      "medium\n",
      "medium\n",
      "medium\n"
     ]
    },
    {
     "data": {
      "text/plain": [
       "'Added additional if statements (x = 5)'"
      ]
     },
     "execution_count": 81,
     "metadata": {},
     "output_type": "execute_result"
    }
   ],
   "source": [
    "# If statement\n",
    "x = 4\n",
    "if x < 1:\n",
    "    score = \"low\"\n",
    "elif x <= 4:\n",
    "    score = \"medium\"\n",
    "else:\n",
    "    score = \"high\"\n",
    "print (score)\n",
    "\n",
    "x = 5\n",
    "if x < 2:\n",
    "    score = \"low\"\n",
    "elif x <= 5:\n",
    "    score = \"medium\"\n",
    "else:\n",
    "    score = \"high\"\n",
    "print (score)\n",
    "\n",
    "x = 10\n",
    "print (score)\n",
    "\n",
    "x = 1\n",
    "print (score)\n",
    "\n",
    "\"\"\"Added additional if statements (x = 5)\"\"\""
   ]
  },
  {
   "cell_type": "code",
   "execution_count": 85,
   "metadata": {
    "colab": {
     "base_uri": "https://localhost:8080/",
     "height": 34
    },
    "colab_type": "code",
    "id": "vwsQaZqIpfJ3",
    "outputId": "1f190875-b910-4e54-a58a-d4230b7c8169"
   },
   "outputs": [
    {
     "name": "stdout",
     "output_type": "stream",
     "text": [
      "it worked\n",
      "it almost worked\n"
     ]
    }
   ],
   "source": [
    "# If statment with a boolean\n",
    "x = True\n",
    "if x:\n",
    "    print (\"it worked\")\n",
    "    \n",
    "y = False\n",
    "if y: \n",
    "    print (\"it did not work\") \n",
    "    \n",
    "z = True\n",
    "if z:\n",
    "    print (\"it almost worked\")\n",
    "    \n",
    "    \n",
    "\"\"\"Created true / false boolean statements\"\"\""
   ]
  },
  {
   "cell_type": "markdown",
   "metadata": {
    "colab_type": "text",
    "id": "sJ7NPGEKV6Ik"
   },
   "source": [
    "# Loops"
   ]
  },
  {
   "cell_type": "markdown",
   "metadata": {
    "colab_type": "text",
    "id": "YRVxhVCkn0vc"
   },
   "source": [
    "In Python, you can use `for` loop to iterate over the elements of a sequence such as a list or tuple, or use `while` loop to do something repeatedly as long as a condition holds."
   ]
  },
  {
   "cell_type": "code",
   "execution_count": 92,
   "metadata": {
    "colab": {
     "base_uri": "https://localhost:8080/",
     "height": 68
    },
    "colab_type": "code",
    "id": "OB5PtyqAn8mj",
    "outputId": "b4595670-99d4-473e-b299-bf8cf47f1d81"
   },
   "outputs": [
    {
     "name": "stdout",
     "output_type": "stream",
     "text": [
      "i=0, x=3\n",
      "i=1, x=4\n",
      "i=2, x=5\n",
      "i=3, x=6\n",
      "i=4, x=7\n"
     ]
    }
   ],
   "source": [
    "# For loop\n",
    "x = 2 # x variable will start at 2 instead of 1\n",
    "for i in range(5): # goes from i=0 to i=4 range is 5 instead of 3\n",
    "    x += 1 # same as x = x + 1\n",
    "    print (\"i={0}, x={1}\".format(i, x)) # printing with multiple variables(\n",
    "    "
   ]
  },
  {
   "cell_type": "code",
   "execution_count": 96,
   "metadata": {
    "colab": {
     "base_uri": "https://localhost:8080/",
     "height": 68
    },
    "colab_type": "code",
    "id": "6XyhCrFeoGj4",
    "outputId": "2427ae1f-85f7-4888-f47f-8de1992a84c3"
   },
   "outputs": [
    {
     "name": "stdout",
     "output_type": "stream",
     "text": [
      "i=0, x=3\n",
      "i=1, x=4\n",
      "i=2, x=5\n",
      "i=3, x=6\n",
      "i=4, x=7\n"
     ]
    }
   ],
   "source": [
    "# Loop through items in a list\n",
    "x = 2 # changed x variable to 2, now x will start at 3 instead of 2\n",
    "for i in [0, 1, 2, 3, 4]: # added two additional numbers to the list\n",
    "    x += 1 # same as x = x +1\n",
    "    print (\"i={0}, x={1}\".format(i, x))"
   ]
  },
  {
   "cell_type": "code",
   "execution_count": 101,
   "metadata": {
    "colab": {
     "base_uri": "https://localhost:8080/",
     "height": 68
    },
    "colab_type": "code",
    "id": "5Tf2x4okp3fH",
    "outputId": "1ac41665-2f35-4c7d-e9f5-22614d3ba35c"
   },
   "outputs": [
    {
     "name": "stdout",
     "output_type": "stream",
     "text": [
      "9\n",
      "8\n",
      "7\n",
      "6\n",
      "5\n",
      "4\n",
      "3\n"
     ]
    }
   ],
   "source": [
    "# While loop\n",
    "x = 10 # Changed variable from 3 to 10\n",
    "while x > 3: # Changed the condition to 3\n",
    "    x -= 1 # same as x = x - 1\n",
    "    print (x)"
   ]
  },
  {
   "cell_type": "markdown",
   "metadata": {
    "colab_type": "text",
    "id": "gJw-EDO9WBL_"
   },
   "source": [
    "# Functions"
   ]
  },
  {
   "cell_type": "markdown",
   "metadata": {
    "colab_type": "text",
    "id": "hDIOUdWCqBwa"
   },
   "source": [
    "Functions are a way to modularize reusable pieces of code. "
   ]
  },
  {
   "cell_type": "code",
   "execution_count": 103,
   "metadata": {
    "colab": {
     "base_uri": "https://localhost:8080/",
     "height": 34
    },
    "colab_type": "code",
    "id": "iin1ZXmMqA0y",
    "outputId": "3bfae4a7-482b-4d43-8350-f8bb5e8a35ac"
   },
   "outputs": [
    {
     "name": "stdout",
     "output_type": "stream",
     "text": [
      "6\n"
     ]
    }
   ],
   "source": [
    "# Create a function\n",
    "def Shamel(x): # Redefined function's name \n",
    "    x += 5 # Changed value of x\n",
    "    return x\n",
    "\n",
    "# Use the function\n",
    "score = 1\n",
    "score = Shamel(x=score)\n",
    "print (score)"
   ]
  },
  {
   "cell_type": "code",
   "execution_count": 107,
   "metadata": {
    "colab": {
     "base_uri": "https://localhost:8080/",
     "height": 34
    },
    "colab_type": "code",
    "id": "DC6x3DMrqlE3",
    "outputId": "8965bfab-3e20-41ae-9fc1-f22a7d4f3333"
   },
   "outputs": [
    {
     "name": "stdout",
     "output_type": "stream",
     "text": [
      "Sheri Nicole Lamb\n"
     ]
    }
   ],
   "source": [
    "# Function with multiple inputs\n",
    "def join_name (first_name, middle_name, last_name): # Re-defined function\n",
    "    joined_name = first_name + \" \" + middle_name + \" \" + last_name # Added middle name\n",
    "    return joined_name\n",
    "\n",
    "# Use the function\n",
    "first_name = \"Sheri\" # Change display information \n",
    "middle_name = \"Nicole\"\n",
    "last_name = \"Lamb\"\n",
    "joined_name = join_name(first_name=first_name, middle_name=middle_name, last_name=last_name)\n",
    "print (joined_name)"
   ]
  },
  {
   "cell_type": "markdown",
   "metadata": {
    "colab_type": "text",
    "id": "lBLa1n54WEd2"
   },
   "source": [
    "# Classes"
   ]
  },
  {
   "cell_type": "markdown",
   "metadata": {
    "colab_type": "text",
    "id": "mGua8QnArAZh"
   },
   "source": [
    "Classes are a fundamental piece of object oriented programming in Python."
   ]
  },
  {
   "cell_type": "code",
   "execution_count": 108,
   "metadata": {
    "colab": {},
    "colab_type": "code",
    "id": "DXmPwI1frAAd"
   },
   "outputs": [],
   "source": [
    "# Creating the class\n",
    "class Cars(object): # Changed class to Cars\n",
    "  \n",
    "    # Initialize the class\n",
    "    def __init__(self, brand, color, name): # Changed \"species\" to \"brand\"\n",
    "        self.brand = brand\n",
    "        self.color = color\n",
    "        self.name = name\n",
    "\n",
    "    # For printing  \n",
    "    def __str__(self):\n",
    "        return \"{0} {1} named {2}.\".format(self.color, self.brand, self.name)\n",
    "\n",
    "    # Example function\n",
    "    def change_name(self, new_name):\n",
    "        self.name = new_name"
   ]
  },
  {
   "cell_type": "code",
   "execution_count": 111,
   "metadata": {
    "colab": {
     "base_uri": "https://localhost:8080/",
     "height": 51
    },
    "colab_type": "code",
    "id": "ezQq_Fhhrqrv",
    "outputId": "bf159745-99b1-4e33-af4d-f63924a1fe74"
   },
   "outputs": [
    {
     "name": "stdout",
     "output_type": "stream",
     "text": [
      "Spitfire Orange Jeep named Rover.\n",
      "Rover\n"
     ]
    }
   ],
   "source": [
    "# Creating an instance of a class\n",
    "my_car = Cars(brand=\"Jeep\", color=\"Spitfire Orange\", name=\"Rover\",) # Changed instances of car class\n",
    "print (my_car)\n",
    "print (my_car.name)"
   ]
  },
  {
   "cell_type": "code",
   "execution_count": 114,
   "metadata": {
    "colab": {
     "base_uri": "https://localhost:8080/",
     "height": 51
    },
    "colab_type": "code",
    "id": "qTinlRj1szc5",
    "outputId": "80939a31-0242-4465-95ff-da0e5caaa67c"
   },
   "outputs": [
    {
     "name": "stdout",
     "output_type": "stream",
     "text": [
      "Spitfire Orange Jeep named Sunshine.\n",
      "Sunshine\n"
     ]
    }
   ],
   "source": [
    "# Using a class's function\n",
    "my_car.change_name(new_name=\"Sunshine\") # Changes cars name\n",
    "print (my_car)\n",
    "print (my_car.name)"
   ]
  },
  {
   "cell_type": "markdown",
   "metadata": {
    "colab_type": "text",
    "id": "kiWtd0aJtNtY"
   },
   "source": [
    "# Additional resources"
   ]
  },
  {
   "cell_type": "markdown",
   "metadata": {
    "colab_type": "text",
    "id": "cfLF4ktmtSC3"
   },
   "source": [
    "This was a very quick look at Python and we'll be learning more in future lessons. If you want to learn more right now before diving into machine learning, check out this free course: [Free Python Course](https://www.codecademy.com/learn/learn-python)"
   ]
  }
 ],
 "metadata": {
  "colab": {
   "collapsed_sections": [],
   "name": "01_Python",
   "provenance": [],
   "toc_visible": true,
   "version": "0.3.2"
  },
  "kernelspec": {
   "display_name": "Python 3",
   "language": "python",
   "name": "python3"
  },
  "language_info": {
   "codemirror_mode": {
    "name": "ipython",
    "version": 3
   },
   "file_extension": ".py",
   "mimetype": "text/x-python",
   "name": "python",
   "nbconvert_exporter": "python",
   "pygments_lexer": "ipython3",
   "version": "3.8.3"
  }
 },
 "nbformat": 4,
 "nbformat_minor": 4
}
